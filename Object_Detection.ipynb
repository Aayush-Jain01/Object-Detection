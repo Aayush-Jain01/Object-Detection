{
  "nbformat": 4,
  "nbformat_minor": 0,
  "metadata": {
    "colab": {
      "name": "Object Detection.ipynb",
      "provenance": [],
      "collapsed_sections": [],
      "authorship_tag": "ABX9TyPaWpexyCOxWEzgl2jfNpY9",
      "include_colab_link": true
    },
    "kernelspec": {
      "name": "python3",
      "display_name": "Python 3"
    },
    "language_info": {
      "name": "python"
    },
    "widgets": {
      "application/vnd.jupyter.widget-state+json": {
        "cba25fed09914732a3878fb1cc8e78d4": {
          "model_module": "@jupyter-widgets/controls",
          "model_name": "HBoxModel",
          "model_module_version": "1.5.0",
          "state": {
            "_view_name": "HBoxView",
            "_dom_classes": [],
            "_model_name": "HBoxModel",
            "_view_module": "@jupyter-widgets/controls",
            "_model_module_version": "1.5.0",
            "_view_count": null,
            "_view_module_version": "1.5.0",
            "box_style": "",
            "layout": "IPY_MODEL_7765581b8c57463a91e05370cf4fcfb7",
            "_model_module": "@jupyter-widgets/controls",
            "children": [
              "IPY_MODEL_40b94ba0607345919089049eab7093b8",
              "IPY_MODEL_bdb5343169c94347aaf1cd8cf06c2420",
              "IPY_MODEL_78bc95899ebd44aeaed6b7674c49f1dc"
            ]
          }
        },
        "7765581b8c57463a91e05370cf4fcfb7": {
          "model_module": "@jupyter-widgets/base",
          "model_name": "LayoutModel",
          "model_module_version": "1.2.0",
          "state": {
            "_view_name": "LayoutView",
            "grid_template_rows": null,
            "right": null,
            "justify_content": null,
            "_view_module": "@jupyter-widgets/base",
            "overflow": null,
            "_model_module_version": "1.2.0",
            "_view_count": null,
            "flex_flow": null,
            "width": null,
            "min_width": null,
            "border": null,
            "align_items": null,
            "bottom": null,
            "_model_module": "@jupyter-widgets/base",
            "top": null,
            "grid_column": null,
            "overflow_y": null,
            "overflow_x": null,
            "grid_auto_flow": null,
            "grid_area": null,
            "grid_template_columns": null,
            "flex": null,
            "_model_name": "LayoutModel",
            "justify_items": null,
            "grid_row": null,
            "max_height": null,
            "align_content": null,
            "visibility": null,
            "align_self": null,
            "height": null,
            "min_height": null,
            "padding": null,
            "grid_auto_rows": null,
            "grid_gap": null,
            "max_width": null,
            "order": null,
            "_view_module_version": "1.2.0",
            "grid_template_areas": null,
            "object_position": null,
            "object_fit": null,
            "grid_auto_columns": null,
            "margin": null,
            "display": null,
            "left": null
          }
        },
        "40b94ba0607345919089049eab7093b8": {
          "model_module": "@jupyter-widgets/controls",
          "model_name": "HTMLModel",
          "model_module_version": "1.5.0",
          "state": {
            "_view_name": "HTMLView",
            "style": "IPY_MODEL_d4a451736a7c4a22849ff55020a9f790",
            "_dom_classes": [],
            "description": "",
            "_model_name": "HTMLModel",
            "placeholder": "​",
            "_view_module": "@jupyter-widgets/controls",
            "_model_module_version": "1.5.0",
            "value": "100%",
            "_view_count": null,
            "_view_module_version": "1.5.0",
            "description_tooltip": null,
            "_model_module": "@jupyter-widgets/controls",
            "layout": "IPY_MODEL_c3dc799c53e14cf885c300a3523114e4"
          }
        },
        "bdb5343169c94347aaf1cd8cf06c2420": {
          "model_module": "@jupyter-widgets/controls",
          "model_name": "FloatProgressModel",
          "model_module_version": "1.5.0",
          "state": {
            "_view_name": "ProgressView",
            "style": "IPY_MODEL_ad4f9220777044828c48d8a633a59f0a",
            "_dom_classes": [],
            "description": "",
            "_model_name": "FloatProgressModel",
            "bar_style": "success",
            "max": 167502836,
            "_view_module": "@jupyter-widgets/controls",
            "_model_module_version": "1.5.0",
            "value": 167502836,
            "_view_count": null,
            "_view_module_version": "1.5.0",
            "orientation": "horizontal",
            "min": 0,
            "description_tooltip": null,
            "_model_module": "@jupyter-widgets/controls",
            "layout": "IPY_MODEL_7681bf1f1e2142d19208a61e4d59bbc6"
          }
        },
        "78bc95899ebd44aeaed6b7674c49f1dc": {
          "model_module": "@jupyter-widgets/controls",
          "model_name": "HTMLModel",
          "model_module_version": "1.5.0",
          "state": {
            "_view_name": "HTMLView",
            "style": "IPY_MODEL_c8ba11962443417587d7ad0316dac5d9",
            "_dom_classes": [],
            "description": "",
            "_model_name": "HTMLModel",
            "placeholder": "​",
            "_view_module": "@jupyter-widgets/controls",
            "_model_module_version": "1.5.0",
            "value": " 160M/160M [00:01&lt;00:00, 119MB/s]",
            "_view_count": null,
            "_view_module_version": "1.5.0",
            "description_tooltip": null,
            "_model_module": "@jupyter-widgets/controls",
            "layout": "IPY_MODEL_d7eb710506e6418cb5f68128ab637396"
          }
        },
        "d4a451736a7c4a22849ff55020a9f790": {
          "model_module": "@jupyter-widgets/controls",
          "model_name": "DescriptionStyleModel",
          "model_module_version": "1.5.0",
          "state": {
            "_view_name": "StyleView",
            "_model_name": "DescriptionStyleModel",
            "description_width": "",
            "_view_module": "@jupyter-widgets/base",
            "_model_module_version": "1.5.0",
            "_view_count": null,
            "_view_module_version": "1.2.0",
            "_model_module": "@jupyter-widgets/controls"
          }
        },
        "c3dc799c53e14cf885c300a3523114e4": {
          "model_module": "@jupyter-widgets/base",
          "model_name": "LayoutModel",
          "model_module_version": "1.2.0",
          "state": {
            "_view_name": "LayoutView",
            "grid_template_rows": null,
            "right": null,
            "justify_content": null,
            "_view_module": "@jupyter-widgets/base",
            "overflow": null,
            "_model_module_version": "1.2.0",
            "_view_count": null,
            "flex_flow": null,
            "width": null,
            "min_width": null,
            "border": null,
            "align_items": null,
            "bottom": null,
            "_model_module": "@jupyter-widgets/base",
            "top": null,
            "grid_column": null,
            "overflow_y": null,
            "overflow_x": null,
            "grid_auto_flow": null,
            "grid_area": null,
            "grid_template_columns": null,
            "flex": null,
            "_model_name": "LayoutModel",
            "justify_items": null,
            "grid_row": null,
            "max_height": null,
            "align_content": null,
            "visibility": null,
            "align_self": null,
            "height": null,
            "min_height": null,
            "padding": null,
            "grid_auto_rows": null,
            "grid_gap": null,
            "max_width": null,
            "order": null,
            "_view_module_version": "1.2.0",
            "grid_template_areas": null,
            "object_position": null,
            "object_fit": null,
            "grid_auto_columns": null,
            "margin": null,
            "display": null,
            "left": null
          }
        },
        "ad4f9220777044828c48d8a633a59f0a": {
          "model_module": "@jupyter-widgets/controls",
          "model_name": "ProgressStyleModel",
          "model_module_version": "1.5.0",
          "state": {
            "_view_name": "StyleView",
            "_model_name": "ProgressStyleModel",
            "description_width": "",
            "_view_module": "@jupyter-widgets/base",
            "_model_module_version": "1.5.0",
            "_view_count": null,
            "_view_module_version": "1.2.0",
            "bar_color": null,
            "_model_module": "@jupyter-widgets/controls"
          }
        },
        "7681bf1f1e2142d19208a61e4d59bbc6": {
          "model_module": "@jupyter-widgets/base",
          "model_name": "LayoutModel",
          "model_module_version": "1.2.0",
          "state": {
            "_view_name": "LayoutView",
            "grid_template_rows": null,
            "right": null,
            "justify_content": null,
            "_view_module": "@jupyter-widgets/base",
            "overflow": null,
            "_model_module_version": "1.2.0",
            "_view_count": null,
            "flex_flow": null,
            "width": null,
            "min_width": null,
            "border": null,
            "align_items": null,
            "bottom": null,
            "_model_module": "@jupyter-widgets/base",
            "top": null,
            "grid_column": null,
            "overflow_y": null,
            "overflow_x": null,
            "grid_auto_flow": null,
            "grid_area": null,
            "grid_template_columns": null,
            "flex": null,
            "_model_name": "LayoutModel",
            "justify_items": null,
            "grid_row": null,
            "max_height": null,
            "align_content": null,
            "visibility": null,
            "align_self": null,
            "height": null,
            "min_height": null,
            "padding": null,
            "grid_auto_rows": null,
            "grid_gap": null,
            "max_width": null,
            "order": null,
            "_view_module_version": "1.2.0",
            "grid_template_areas": null,
            "object_position": null,
            "object_fit": null,
            "grid_auto_columns": null,
            "margin": null,
            "display": null,
            "left": null
          }
        },
        "c8ba11962443417587d7ad0316dac5d9": {
          "model_module": "@jupyter-widgets/controls",
          "model_name": "DescriptionStyleModel",
          "model_module_version": "1.5.0",
          "state": {
            "_view_name": "StyleView",
            "_model_name": "DescriptionStyleModel",
            "description_width": "",
            "_view_module": "@jupyter-widgets/base",
            "_model_module_version": "1.5.0",
            "_view_count": null,
            "_view_module_version": "1.2.0",
            "_model_module": "@jupyter-widgets/controls"
          }
        },
        "d7eb710506e6418cb5f68128ab637396": {
          "model_module": "@jupyter-widgets/base",
          "model_name": "LayoutModel",
          "model_module_version": "1.2.0",
          "state": {
            "_view_name": "LayoutView",
            "grid_template_rows": null,
            "right": null,
            "justify_content": null,
            "_view_module": "@jupyter-widgets/base",
            "overflow": null,
            "_model_module_version": "1.2.0",
            "_view_count": null,
            "flex_flow": null,
            "width": null,
            "min_width": null,
            "border": null,
            "align_items": null,
            "bottom": null,
            "_model_module": "@jupyter-widgets/base",
            "top": null,
            "grid_column": null,
            "overflow_y": null,
            "overflow_x": null,
            "grid_auto_flow": null,
            "grid_area": null,
            "grid_template_columns": null,
            "flex": null,
            "_model_name": "LayoutModel",
            "justify_items": null,
            "grid_row": null,
            "max_height": null,
            "align_content": null,
            "visibility": null,
            "align_self": null,
            "height": null,
            "min_height": null,
            "padding": null,
            "grid_auto_rows": null,
            "grid_gap": null,
            "max_width": null,
            "order": null,
            "_view_module_version": "1.2.0",
            "grid_template_areas": null,
            "object_position": null,
            "object_fit": null,
            "grid_auto_columns": null,
            "margin": null,
            "display": null,
            "left": null
          }
        }
      }
    },
    "accelerator": "GPU"
  },
  "cells": [
    {
      "cell_type": "markdown",
      "metadata": {
        "id": "view-in-github",
        "colab_type": "text"
      },
      "source": [
        "<a href=\"https://colab.research.google.com/github/Aayush-Jain01/Object-Detection/blob/main/Object_Detection.ipynb\" target=\"_parent\"><img src=\"https://colab.research.google.com/assets/colab-badge.svg\" alt=\"Open In Colab\"/></a>"
      ]
    },
    {
      "cell_type": "code",
      "metadata": {
        "id": "Ss98KB0WofqK",
        "colab": {
          "base_uri": "https://localhost:8080/"
        },
        "outputId": "e9286a28-5dde-46a2-df1a-87c505c0b97a"
      },
      "source": [
        "!pip install ray[tune]"
      ],
      "execution_count": null,
      "outputs": [
        {
          "output_type": "stream",
          "name": "stdout",
          "text": [
            "Collecting ray[tune]\n",
            "  Downloading ray-1.6.0-cp37-cp37m-manylinux2014_x86_64.whl (49.6 MB)\n",
            "\u001b[K     |████████████████████████████████| 49.6 MB 6.2 kB/s \n",
            "\u001b[?25hRequirement already satisfied: click>=7.0 in /usr/local/lib/python3.7/dist-packages (from ray[tune]) (7.1.2)\n",
            "Requirement already satisfied: numpy>=1.16 in /usr/local/lib/python3.7/dist-packages (from ray[tune]) (1.19.5)\n",
            "Requirement already satisfied: filelock in /usr/local/lib/python3.7/dist-packages (from ray[tune]) (3.0.12)\n",
            "Requirement already satisfied: pyyaml in /usr/local/lib/python3.7/dist-packages (from ray[tune]) (3.13)\n",
            "Requirement already satisfied: grpcio>=1.28.1 in /usr/local/lib/python3.7/dist-packages (from ray[tune]) (1.40.0)\n",
            "Requirement already satisfied: attrs in /usr/local/lib/python3.7/dist-packages (from ray[tune]) (21.2.0)\n",
            "Collecting redis>=3.5.0\n",
            "  Downloading redis-3.5.3-py2.py3-none-any.whl (72 kB)\n",
            "\u001b[K     |████████████████████████████████| 72 kB 558 kB/s \n",
            "\u001b[?25hRequirement already satisfied: msgpack<2.0.0,>=1.0.0 in /usr/local/lib/python3.7/dist-packages (from ray[tune]) (1.0.2)\n",
            "Requirement already satisfied: protobuf>=3.15.3 in /usr/local/lib/python3.7/dist-packages (from ray[tune]) (3.17.3)\n",
            "Collecting tensorboardX>=1.9\n",
            "  Downloading tensorboardX-2.4-py2.py3-none-any.whl (124 kB)\n",
            "\u001b[K     |████████████████████████████████| 124 kB 43.9 MB/s \n",
            "\u001b[?25hRequirement already satisfied: requests in /usr/local/lib/python3.7/dist-packages (from ray[tune]) (2.23.0)\n",
            "Requirement already satisfied: pandas in /usr/local/lib/python3.7/dist-packages (from ray[tune]) (1.1.5)\n",
            "Requirement already satisfied: tabulate in /usr/local/lib/python3.7/dist-packages (from ray[tune]) (0.8.9)\n",
            "Requirement already satisfied: six>=1.5.2 in /usr/local/lib/python3.7/dist-packages (from grpcio>=1.28.1->ray[tune]) (1.15.0)\n",
            "Requirement already satisfied: pytz>=2017.2 in /usr/local/lib/python3.7/dist-packages (from pandas->ray[tune]) (2018.9)\n",
            "Requirement already satisfied: python-dateutil>=2.7.3 in /usr/local/lib/python3.7/dist-packages (from pandas->ray[tune]) (2.8.2)\n",
            "Requirement already satisfied: idna<3,>=2.5 in /usr/local/lib/python3.7/dist-packages (from requests->ray[tune]) (2.10)\n",
            "Requirement already satisfied: urllib3!=1.25.0,!=1.25.1,<1.26,>=1.21.1 in /usr/local/lib/python3.7/dist-packages (from requests->ray[tune]) (1.24.3)\n",
            "Requirement already satisfied: chardet<4,>=3.0.2 in /usr/local/lib/python3.7/dist-packages (from requests->ray[tune]) (3.0.4)\n",
            "Requirement already satisfied: certifi>=2017.4.17 in /usr/local/lib/python3.7/dist-packages (from requests->ray[tune]) (2021.5.30)\n",
            "Installing collected packages: redis, tensorboardX, ray\n",
            "Successfully installed ray-1.6.0 redis-3.5.3 tensorboardX-2.4\n"
          ]
        }
      ]
    },
    {
      "cell_type": "code",
      "metadata": {
        "id": "8_aqZ8ndosPi"
      },
      "source": [
        "import torch\n",
        "from torch import nn\n",
        "from torchvision import transforms\n",
        "from torch.utils.data import Dataset, DataLoader\n",
        "import matplotlib.pyplot as plt\n",
        "from torch.utils.data import random_split\n",
        "import numpy as np\n",
        "from ray import tune\n",
        "from ray.tune import CLIReporter\n",
        "from ray.tune.schedulers import ASHAScheduler\n",
        "import os\n",
        "import pandas as pd\n",
        "from skimage import io, transform\n",
        "from PIL import Image\n",
        "import cv2\n",
        "from torchvision.models.detection.faster_rcnn import FastRCNNPredictor\n",
        "from torchvision.models.detection import FasterRCNN\n",
        "from torchvision.models.detection import fasterrcnn_resnet50_fpn\n",
        "from torchvision.models.detection.rpn import AnchorGenerator\n",
        "\n"
      ],
      "execution_count": null,
      "outputs": []
    },
    {
      "cell_type": "code",
      "metadata": {
        "colab": {
          "base_uri": "https://localhost:8080/"
        },
        "id": "TdFJlNw2D3gf",
        "outputId": "e515ac8d-4bce-40d8-d542-40f83f1d67a2"
      },
      "source": [
        " from google.colab import drive\n",
        "drive.mount('/content/drive')"
      ],
      "execution_count": null,
      "outputs": [
        {
          "output_type": "stream",
          "name": "stdout",
          "text": [
            "Mounted at /content/drive\n"
          ]
        }
      ]
    },
    {
      "cell_type": "code",
      "metadata": {
        "id": "bZXqSdKq2jMI"
      },
      "source": [
        "im_path = \"/content/drive/MyDrive/YOLO Object Detection/training_images/vid_4_10000.jpg\"\n",
        "im = io.imread(im_path)\n",
        "im.shape\n",
        "im_ = im.transpose((2, 0, 1))"
      ],
      "execution_count": null,
      "outputs": []
    },
    {
      "cell_type": "code",
      "metadata": {
        "id": "4u-JVbcEotxY"
      },
      "source": [
        "class CarDataset(Dataset):\n",
        "  def __init__(self, csv_file, root_dir, transform):\n",
        "    super().__init__()\n",
        "    self.csv_file = pd.read_csv(csv_file)\n",
        "    self.root_dir = root_dir\n",
        "    self.transform = transform\n",
        "  def __len__(self):\n",
        "    return len(self.csv_file)\n",
        "  def __getitem__(self, idx):\n",
        "    img_path = os.path.join(self.root_dir, self.csv_file.iloc[idx, 0])\n",
        "    image = io.imread(img_path)\n",
        "    image_ = Image.fromarray(image)\n",
        "    bounding_params = self.csv_file.iloc[idx, 1:]\n",
        "    #bounding_params = np.array([bounding_params])\n",
        "    bounding_params = torch.as_tensor(bounding_params, dtype= torch.float32)\n",
        "    labels = torch.ones((1,), dtype= torch.int64)\n",
        "    image_id = torch.tensor([idx])\n",
        "    area = ((bounding_params[3]-bounding_params[1])*(bounding_params[2]-bounding_params[0]))\n",
        "    target = {}\n",
        "    target[\"boxes\"] = bounding_params\n",
        "    target[\"labels\"] = labels\n",
        "    target[\"image_id\"] = image_id\n",
        "    target[\"area\"] = area\n",
        "    #sample = {'image': image, \"bounding_parms\" : bounding_params}\n",
        "    if self.transform:\n",
        "        image_1 = self.transform(image_)\n",
        "    return image_1, target\n"
      ],
      "execution_count": null,
      "outputs": []
    },
    {
      "cell_type": "code",
      "metadata": {
        "colab": {
          "base_uri": "https://localhost:8080/"
        },
        "id": "KXdNyilwEAxz",
        "outputId": "98836036-a74c-4d6d-cea0-a9e6a32b226f"
      },
      "source": [
        "train_transforms = transforms.Compose([\n",
        "        #transforms.RandomResizedCrop(size=256, scale=(0.8, 1.0)),\n",
        "        #transforms.RandomRotation(degrees=15),\n",
        "        transforms.ColorJitter(0.3, 0.3, 0.3, 0.3),\n",
        "        transforms.RandomHorizontalFlip(),\n",
        "        #transforms.CenterCrop(size=224),  # Image net standards\n",
        "        transforms.ToTensor(),\n",
        "        transforms.Normalize([0.485, 0.456, 0.406],\n",
        "                             [0.229, 0.224, 0.225])  # Imagenet standards\n",
        "      ])\n",
        "test_transforms = transforms.Compose([\n",
        "        #transforms.Resize(size=256),\n",
        "        #transforms.CenterCrop(size=224),\n",
        "        transforms.ToTensor(),\n",
        "        transforms.Normalize([0.485, 0.456, 0.406], [0.229, 0.224, 0.225])\n",
        "    ])\n",
        "train_set = CarDataset(\"/content/drive/MyDrive/YOLO Object Detection/train_solution_bounding_boxes (1).csv\", \"/content/drive/MyDrive/YOLO Object Detection/training_images/\", transform= train_transforms)\n",
        "train_set"
      ],
      "execution_count": null,
      "outputs": [
        {
          "output_type": "execute_result",
          "data": {
            "text/plain": [
              "<__main__.CarDataset at 0x7f7ff5e0abd0>"
            ]
          },
          "metadata": {},
          "execution_count": 62
        }
      ]
    },
    {
      "cell_type": "code",
      "metadata": {
        "id": "Z19L8o0JF5Zy"
      },
      "source": [
        "def collate_func(batch):\n",
        "    return tuple(zip(*batch))\n",
        "train_set, val_set = random_split(train_set, lengths=[447,112])\n",
        "test_set = CarDataset(\"/content/drive/MyDrive/YOLO Object Detection/sample_submission.csv\", \"/content/drive/MyDrive/YOLO Object Detection/testing_images\", test_transforms)\n",
        "train_dl =  DataLoader(train_set, batch_size= 3, collate_fn= collate_func, shuffle = False)\n",
        "val_dl = DataLoader(val_set, batch_size= 4, collate_fn= collate_func, shuffle = True)\n",
        "test_dl = DataLoader(test_set, batch_size = 4, collate_fn = collate_func, shuffle = False)\n"
      ],
      "execution_count": null,
      "outputs": []
    },
    {
      "cell_type": "code",
      "metadata": {
        "id": "1XIhf9Pv11Ee"
      },
      "source": [
        ""
      ],
      "execution_count": null,
      "outputs": []
    },
    {
      "cell_type": "code",
      "metadata": {
        "id": "XrswN_weKbJr"
      },
      "source": [
        "def show_image(image, bounding_params):\n",
        "  image_ = image.transpose(*(0, 2))\n",
        "  image_2 = image_.transpose(*(1, 0))\n",
        "  image_3 = image_2.numpy()\n",
        "  image_4 = cv2.cvtColor(image_3, cv2.COLOR_BGR2RGB)\n",
        "  plt.imshow(image_4)\n",
        "  print(bounding_params)\n"
      ],
      "execution_count": null,
      "outputs": []
    },
    {
      "cell_type": "code",
      "metadata": {
        "id": "Q_Sq5Rc7DQWg"
      },
      "source": [
        "from torchvision import models\n"
      ],
      "execution_count": null,
      "outputs": []
    },
    {
      "cell_type": "code",
      "metadata": {
        "colab": {
          "base_uri": "https://localhost:8080/",
          "height": 66,
          "referenced_widgets": [
            "cba25fed09914732a3878fb1cc8e78d4",
            "7765581b8c57463a91e05370cf4fcfb7",
            "40b94ba0607345919089049eab7093b8",
            "bdb5343169c94347aaf1cd8cf06c2420",
            "78bc95899ebd44aeaed6b7674c49f1dc",
            "d4a451736a7c4a22849ff55020a9f790",
            "c3dc799c53e14cf885c300a3523114e4",
            "ad4f9220777044828c48d8a633a59f0a",
            "7681bf1f1e2142d19208a61e4d59bbc6",
            "c8ba11962443417587d7ad0316dac5d9",
            "d7eb710506e6418cb5f68128ab637396"
          ]
        },
        "id": "RXhl5W7f_8Xu",
        "outputId": "537f9667-7651-40b6-cdbb-051cca099058"
      },
      "source": [
        "model = models.detection.fasterrcnn_resnet50_fpn(pretrained=True)\n",
        "for parameters in model.parameters():\n",
        "  parameters.requires_grad = False\n",
        "num_classes = 2 \n",
        "in_features = model.roi_heads.box_predictor.cls_score.in_features\n",
        "model.roi_heads.box_predictor = FastRCNNPredictor(in_features, num_classes)\n"
      ],
      "execution_count": null,
      "outputs": [
        {
          "output_type": "stream",
          "name": "stderr",
          "text": [
            "Downloading: \"https://download.pytorch.org/models/fasterrcnn_resnet50_fpn_coco-258fb6c6.pth\" to /root/.cache/torch/hub/checkpoints/fasterrcnn_resnet50_fpn_coco-258fb6c6.pth\n"
          ]
        },
        {
          "output_type": "display_data",
          "data": {
            "application/vnd.jupyter.widget-view+json": {
              "model_id": "cba25fed09914732a3878fb1cc8e78d4",
              "version_minor": 0,
              "version_major": 2
            },
            "text/plain": [
              "  0%|          | 0.00/160M [00:00<?, ?B/s]"
            ]
          },
          "metadata": {}
        }
      ]
    },
    {
      "cell_type": "code",
      "metadata": {
        "id": "YPwmt4zIH0lm"
      },
      "source": [
        "model"
      ],
      "execution_count": null,
      "outputs": []
    },
    {
      "cell_type": "code",
      "metadata": {
        "id": "zoaF9-9LKyFe"
      },
      "source": [
        "model.to('cuda')"
      ],
      "execution_count": null,
      "outputs": []
    },
    {
      "cell_type": "code",
      "metadata": {
        "id": "xNYeGQU_f1QG"
      },
      "source": [
        "import sklearn.metrics\n",
        "def precision_recall_curve(y_true, pred_scores, thresholds):\n",
        "    precisions = []\n",
        "    recalls = []\n",
        "    for threshold in thresholds:\n",
        "        y_pred = [1 if score >= threshold else 0 for score in pred_scores]\n",
        "        \n",
        "        precision = sklearn.metrics.precision_score(y_true=y_true, y_pred=y_pred, pos_label=1)\n",
        "        recall = sklearn.metrics.recall_score(y_true=y_true, y_pred=y_pred, pos_label=1)\n",
        "        \n",
        "        precisions.append(precision)\n",
        "        recalls.append(recall)\n",
        "\n",
        "    return precisions, recalls\n",
        "def predictions(preds, images, targets):\n",
        "    #pred_labels = pred[\"labels\"]\n",
        "    scores = []\n",
        "    true_labels = []\n",
        "    #pred_labels = [1 if score >= threshold else 0 for score in scores] \n",
        "    for i in range(len(targets)):\n",
        "      target = targets[i]\n",
        "      true_labels.append(target[\"labels\"])\n",
        "    thresholds = np.arange(0.2, 0.9, step= 0.25)\n",
        "    APS = []\n",
        "    for i in range(len(targets)):\n",
        "      target = targets[i]\n",
        "      true_labels = target[\"labels\"]\n",
        "      precisions, recalls = precision_recall_curve(y_true=true_labels, pred_scores=preds[i][\"scores\"], thresholds=thresholds)\n",
        "      precisions.append(1)\n",
        "      recalls.append(0)\n",
        "\n",
        "      precisions = numpy.array(precisions)\n",
        "      recalls = numpy.array(recalls)\n",
        "\n",
        "      AP = numpy.sum((recalls[:-1] - recalls[1:]) * precisions[:-1])\n",
        "      APS.append(AP)\n",
        "    print(\"Mean Average Precision = \" + str(sum(APS)/4))"
      ],
      "execution_count": null,
      "outputs": []
    },
    {
      "cell_type": "code",
      "metadata": {
        "id": "Rv27GciUJPK9"
      },
      "source": [
        "def train(config): \n",
        "  optimizer = torch.optim.SGD(model.parameters(), lr= config[\"lr\"], weight_decay= config[\"weight_decay\"])\n",
        "  lr_schedular = torch.optim.lr_scheduler.CyclicLR(optimizer, base_lr= config[\"base_lr\"], max_lr = config[\"max_lr\"], gamma= config[\"gamma\"]) \n",
        "  for epoch in range(10):\n",
        "    model.train()\n",
        "    k = 1\n",
        "    for images, targets in train_dl:\n",
        "      print(k)\n",
        "      k += 1\n",
        "      optimizer.zero_grad()\n",
        "      loss_clas = []\n",
        "      loss_regs = []\n",
        "      # target_new = {}\n",
        "      # boxes = []\n",
        "      # labels = []\n",
        "      # image_ids = []\n",
        "      # areas = []\n",
        "      # for i in range(len(targets)):\n",
        "      #   target = targets[i]\n",
        "      #   boxes.append(target[\"boxes\"])\n",
        "      #   labels.append(target[\"labels\"])\n",
        "      #   image_ids.append(target[\"image_id\"])\n",
        "      #   areas.append(target[\"area\"])\n",
        "      # target_new[\"boxes\"] = torch.stack(boxes)\n",
        "      # target_new[\"labels\"] = torch.stack(labels)\n",
        "      # target_new[\"image_id\"] = torch.stack(image_ids)\n",
        "      # target_new[\"area\"] = torch.stack(areas)\n",
        "      for i in range(len(targets)):\n",
        "        targets[i][\"boxes\"] = torch.reshape(targets[i][\"boxes\"], (1, 4))\n",
        "      images_ = list(image.to('cuda') for image in images)\n",
        "      targets_ = [{k: v.to('cuda') for k, v in t.items()} for t in targets]\n",
        "      loss = model(images_, targets_)\n",
        "      loss_cla = loss['loss_classifier']\n",
        "      loss_reg = loss['loss_box_reg']\n",
        "      loss_clas.append(loss_cla)\n",
        "      loss_regs.append(loss_reg)\n",
        "      loss_sum = sum(loss for loss in loss.values())\n",
        "      loss_sum.backward()\n",
        "      optimizer.step()\n",
        "    lr_schedular.step()\n",
        "    print(\"Average Total Loss = \" + str(loss_sum/4) + \" in epoch = \" + str(epoch))\n",
        "    print(\"Average CLA Loss = \" + str(sum(loss_clas)/len(loss_clas)) + \" Average REG Loss = \" + str(sum(loss_regs)/len(loss_regs)) + \"Epoch =\" + str(epoch))\n",
        "    model.eval()\n",
        "    with torch.no_grad():\n",
        "      for images, targets in val_dl:\n",
        "        # target_new = {}\n",
        "        # boxes = []\n",
        "        # labels = []\n",
        "        # image_ids = []\n",
        "        # areas = []\n",
        "        # for i in range(len(targets)):\n",
        "        #   target = targets[i]\n",
        "        #   boxes.append(target[\"boxes\"])\n",
        "        #   labels.append(target[\"labels\"])\n",
        "        #   image_ids.append(target[\"image_id\"])\n",
        "        #   areas.append(target[\"area\"])\n",
        "        # target_new[\"boxes\"] = torch.stack(boxes)\n",
        "        # target_new[\"labels\"] = torch.stack(labels)\n",
        "        # target_new[\"image_id\"] = torch.stack(image_ids)\n",
        "        # target_new[\"area\"] = torch.stack(areas)\n",
        "        for i in range(len(targets)):\n",
        "          targets[i][\"boxes\"] = torch.reshape(targets[i][\"boxes\"], (1, 4))\n",
        "        images_ = list(image.to('cuda') for image in images)\n",
        "        targets_ = [{k: v.to('cuda') for k, v in t.items()} for t in targets]\n",
        "        preds = model(images_, targets_)\n",
        "        # print(targets_)\n",
        "        # print(preds)\n",
        "        predictions(preds, images_, targets_)\n",
        "    "
      ],
      "execution_count": null,
      "outputs": []
    },
    {
      "cell_type": "code",
      "metadata": {
        "id": "qwxYhHH6TSkT"
      },
      "source": [
        "config = {\n",
        "    \"lr\" : 1e-4,\n",
        "    \"weight_decay\" : 1e-5,\n",
        "    \"base_lr\" : 1e-5,\n",
        "    \"max_lr\" : 5e-3,\n",
        "    \"gamma\" : 1.0\n",
        "}\n",
        "train(config)"
      ],
      "execution_count": null,
      "outputs": []
    },
    {
      "cell_type": "code",
      "metadata": {
        "id": "JPsJayoaTfS8"
      },
      "source": [
        ""
      ],
      "execution_count": null,
      "outputs": []
    }
  ]
}